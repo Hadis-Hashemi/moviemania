{
 "cells": [
  {
   "cell_type": "code",
   "execution_count": 21,
   "metadata": {},
   "outputs": [],
   "source": [
    "import pandas as pd\n",
    "data_Drama = pd.read_csv(\"Drama.csv\")\n",
    "data_Drama = data_Drama[data_Drama['description'].notna()]\n",
    "\n",
    "data_Romance = pd.read_csv(\"Romance.csv\")\n",
    "data_Romance = data_Romance[data_Romance['description'].notna()]"
   ]
  },
  {
   "cell_type": "code",
   "execution_count": 22,
   "metadata": {},
   "outputs": [],
   "source": [
    "from sklearn.feature_extraction.text import CountVectorizer\n",
    "count_vect_Drama = CountVectorizer()\n",
    "Drama_train_counts = count_vect_Drama.fit_transform(data_Drama['description'])\n",
    "\n",
    "count_vect_Romance = CountVectorizer()\n",
    "Romance_train_counts = count_vect_Romance.fit_transform(data_Romance['description'])"
   ]
  },
  {
   "cell_type": "code",
   "execution_count": 23,
   "metadata": {},
   "outputs": [],
   "source": [
    "from sklearn.feature_extraction.text import TfidfTransformer\n",
    "Drama_tfidf_transformer = TfidfTransformer()\n",
    "Drama_train_tfidf = Drama_tfidf_transformer.fit_transform(Drama_train_counts)\n",
    "\n",
    "\n",
    "Romance_tfidf_transformer = TfidfTransformer()\n",
    "Romance_train_tfidf = Romance_tfidf_transformer.fit_transform(Romance_train_counts)\n",
    "\n"
   ]
  },
  {
   "cell_type": "code",
   "execution_count": 24,
   "metadata": {},
   "outputs": [],
   "source": [
    "from sklearn.naive_bayes import MultinomialNB\n",
    "dramaTest = MultinomialNB().fit(Drama_train_tfidf, data['class'])\n",
    "\n",
    "RomanceTest = MultinomialNB().fit(Romance_train_tfidf, data['class'])"
   ]
  },
  {
   "cell_type": "code",
   "execution_count": 33,
   "metadata": {},
   "outputs": [
    {
     "name": "stdout",
     "output_type": "stream",
     "text": [
      "[ True]\n",
      "[ True]\n"
     ]
    }
   ],
   "source": [
    "## 'user input html text box, to test change to \"<description>\"'\n",
    "\n",
    "description = [\"Falling in love shockingly\"]\n",
    "Drama_descrip_counts = count_vect_Drama.transform(description)\n",
    "Romance_descrip_counts = count_vect_Romance.transform(description)\n",
    "\n",
    "\n",
    "Drama_descrip_tfidf = Drama_tfidf_transformer.transform(Drama_descrip_counts)\n",
    "Romance_descrip_tfidf = Romance_tfidf_transformer.transform(Romance_descrip_counts)\n",
    "\n",
    "predicted_Drama = dramaTest.predict(Drama_descrip_tfidf)\n",
    "predicted_Romance = RomanceTest.predict(Romance_descrip_tfidf)\n",
    "\n",
    "\n",
    "\n",
    "\n",
    "\n",
    "print(predicted_Drama)\n",
    "print(predicted_Romance)"
   ]
  },
  {
   "cell_type": "code",
   "execution_count": 34,
   "metadata": {},
   "outputs": [
    {
     "name": "stdout",
     "output_type": "stream",
     "text": [
      "['Drama', 'Romance']\n"
     ]
    }
   ],
   "source": [
    "movie_type = []\n",
    "if predicted_Drama[0]==True:\n",
    "    movie_type.append('Drama')\n",
    "\n",
    "if predicted_Romance[0]==True:\n",
    "    movie_type.append('Romance')\n",
    "print(movie_type)\n"
   ]
  },
  {
   "cell_type": "code",
   "execution_count": null,
   "metadata": {},
   "outputs": [],
   "source": [
    "# build sql query that uses array ^^^"
   ]
  }
 ],
 "metadata": {
  "kernelspec": {
   "display_name": "Python 3",
   "language": "python",
   "name": "python3"
  },
  "language_info": {
   "codemirror_mode": {
    "name": "ipython",
    "version": 3
   },
   "file_extension": ".py",
   "mimetype": "text/x-python",
   "name": "python",
   "nbconvert_exporter": "python",
   "pygments_lexer": "ipython3",
   "version": "3.7.6"
  }
 },
 "nbformat": 4,
 "nbformat_minor": 4
}
