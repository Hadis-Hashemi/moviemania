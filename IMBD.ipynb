{
 "cells": [
  {
   "cell_type": "code",
   "execution_count": 12,
   "metadata": {},
   "outputs": [
    {
     "name": "stderr",
     "output_type": "stream",
     "text": [
      "C:\\Users\\Mitch\\Anaconda3\\lib\\site-packages\\IPython\\core\\interactiveshell.py:3058: DtypeWarning: Columns (3) have mixed types. Specify dtype option on import or set low_memory=False.\n",
      "  interactivity=interactivity, compiler=compiler, result=result)\n",
      "C:\\Users\\Mitch\\Anaconda3\\lib\\site-packages\\IPython\\core\\interactiveshell.py:3058: DtypeWarning: Columns (2,5,6,7,8,9,10,11,12,13,14,15,16,17,18,19,20,21,22,23,24,25,26,27,28,29,30,31,32,33,34,35,36,37,38,39,40,41,42,43,44,45,46,47,48,49,50,51,52,53,54,55,56,57,58,59,60,61,62,63,64,65,66,67,68,69,70,71,72,73,74,75,76,77,78,79,80,81,82,83,84,85,86,87,88,89,90,91,92,93,94,95,96,97,98,99,100,101,103,104,105,106,107,108,109,110,111,112,113,114,115,116,117,118,119,120,121,122,123) have mixed types. Specify dtype option on import or set low_memory=False.\n",
      "  interactivity=interactivity, compiler=compiler, result=result)\n"
     ]
    }
   ],
   "source": [
    "# Dependencies and Setup\n",
    "import pandas as pd\n",
    "\n",
    "# File to Load (Remember to Change These)\n",
    "movies_data = \"Resources/IMDb_movies.csv\"\n",
    "ratings_data = \"Resources/IMDb_ratings.csv\"\n",
    "names_data = \"Resources/IMDb_names.csv\"\n",
    "\n",
    "# Read School and Student Data File and store into Pandas Data Frames\n",
    "movies_data = pd.read_csv(movies_data)\n",
    "ratings_data = pd.read_csv(ratings_data)\n",
    "names_data = pd.read_csv(names_data)\n"
   ]
  },
  {
   "cell_type": "code",
   "execution_count": 13,
   "metadata": {},
   "outputs": [
    {
     "name": "stdout",
     "output_type": "stream",
     "text": [
      "<class 'pandas.core.frame.DataFrame'>\n",
      "RangeIndex: 85855 entries, 0 to 85854\n",
      "Data columns (total 22 columns):\n",
      "imdb_title_id            85855 non-null object\n",
      "title                    85855 non-null object\n",
      "original_title           85855 non-null object\n",
      "year                     85855 non-null object\n",
      "date_published           85855 non-null object\n",
      "genre                    85855 non-null object\n",
      "duration                 85855 non-null int64\n",
      "country                  85791 non-null object\n",
      "language                 85022 non-null object\n",
      "director                 85768 non-null object\n",
      "writer                   84283 non-null object\n",
      "production_company       81400 non-null object\n",
      "actors                   85786 non-null object\n",
      "description              83740 non-null object\n",
      "avg_vote                 85855 non-null float64\n",
      "votes                    85855 non-null int64\n",
      "budget                   23710 non-null object\n",
      "usa_gross_income         15326 non-null object\n",
      "worlwide_gross_income    31016 non-null object\n",
      "metascore                13305 non-null float64\n",
      "reviews_from_users       78258 non-null float64\n",
      "reviews_from_critics     74058 non-null float64\n",
      "dtypes: float64(4), int64(2), object(16)\n",
      "memory usage: 14.4+ MB\n"
     ]
    }
   ],
   "source": [
    "# info\n",
    "movies_data.info()"
   ]
  },
  {
   "cell_type": "code",
   "execution_count": 14,
   "metadata": {},
   "outputs": [
    {
     "name": "stdout",
     "output_type": "stream",
     "text": [
      "<class 'pandas.core.frame.DataFrame'>\n",
      "RangeIndex: 85855 entries, 0 to 85854\n",
      "Data columns (total 49 columns):\n",
      "imdb_title_id                85855 non-null object\n",
      "weighted_average_vote        85855 non-null float64\n",
      "total_votes                  85855 non-null int64\n",
      "mean_vote                    85855 non-null float64\n",
      "median_vote                  85855 non-null float64\n",
      "votes_10                     85855 non-null int64\n",
      "votes_9                      85855 non-null int64\n",
      "votes_8                      85855 non-null int64\n",
      "votes_7                      85855 non-null int64\n",
      "votes_6                      85855 non-null int64\n",
      "votes_5                      85855 non-null int64\n",
      "votes_4                      85855 non-null int64\n",
      "votes_3                      85855 non-null int64\n",
      "votes_2                      85855 non-null int64\n",
      "votes_1                      85855 non-null int64\n",
      "allgenders_0age_avg_vote     33359 non-null float64\n",
      "allgenders_0age_votes        33359 non-null float64\n",
      "allgenders_18age_avg_vote    85149 non-null float64\n",
      "allgenders_18age_votes       85149 non-null float64\n",
      "allgenders_30age_avg_vote    85845 non-null float64\n",
      "allgenders_30age_votes       85845 non-null float64\n",
      "allgenders_45age_avg_vote    85775 non-null float64\n",
      "allgenders_45age_votes       85775 non-null float64\n",
      "males_allages_avg_vote       85854 non-null float64\n",
      "males_allages_votes          85854 non-null float64\n",
      "males_0age_avg_vote          27411 non-null float64\n",
      "males_0age_votes             27411 non-null float64\n",
      "males_18age_avg_vote         84390 non-null float64\n",
      "males_18age_votes            84390 non-null float64\n",
      "males_30age_avg_vote         85843 non-null float64\n",
      "males_30age_votes            85843 non-null float64\n",
      "males_45age_avg_vote         85754 non-null float64\n",
      "males_45age_votes            85754 non-null float64\n",
      "females_allages_avg_vote     85774 non-null float64\n",
      "females_allages_votes        85774 non-null float64\n",
      "females_0age_avg_vote        22117 non-null float64\n",
      "females_0age_votes           22117 non-null float64\n",
      "females_18age_avg_vote       79334 non-null float64\n",
      "females_18age_votes          79334 non-null float64\n",
      "females_30age_avg_vote       84911 non-null float64\n",
      "females_30age_votes          84911 non-null float64\n",
      "females_45age_avg_vote       83057 non-null float64\n",
      "females_45age_votes          83057 non-null float64\n",
      "top1000_voters_rating        85176 non-null float64\n",
      "top1000_voters_votes         85176 non-null float64\n",
      "us_voters_rating             85646 non-null float64\n",
      "us_voters_votes              85646 non-null float64\n",
      "non_us_voters_rating         85854 non-null float64\n",
      "non_us_voters_votes          85854 non-null float64\n",
      "dtypes: float64(37), int64(11), object(1)\n",
      "memory usage: 32.1+ MB\n"
     ]
    }
   ],
   "source": [
    "ratings_data.info()"
   ]
  },
  {
   "cell_type": "code",
   "execution_count": 15,
   "metadata": {},
   "outputs": [
    {
     "name": "stdout",
     "output_type": "stream",
     "text": [
      "<class 'pandas.core.frame.DataFrame'>\n",
      "RangeIndex: 297710 entries, 0 to 297709\n",
      "Columns: 129 entries, imdb_name_id to Unnamed: 128\n",
      "dtypes: float64(6), object(123)\n",
      "memory usage: 293.0+ MB\n"
     ]
    }
   ],
   "source": [
    "names_data.info()"
   ]
  }
 ],
 "metadata": {
  "kernelspec": {
   "display_name": "Python 3",
   "language": "python",
   "name": "python3"
  },
  "language_info": {
   "codemirror_mode": {
    "name": "ipython",
    "version": 3
   },
   "file_extension": ".py",
   "mimetype": "text/x-python",
   "name": "python",
   "nbconvert_exporter": "python",
   "pygments_lexer": "ipython3",
   "version": "3.7.4"
  }
 },
 "nbformat": 4,
 "nbformat_minor": 2
}
