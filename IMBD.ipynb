{
 "cells": [
  {
   "cell_type": "code",
   "execution_count": 69,
   "metadata": {},
   "outputs": [
    {
     "name": "stderr",
     "output_type": "stream",
     "text": [
      "C:\\Users\\Mitch\\Anaconda3\\lib\\site-packages\\IPython\\core\\interactiveshell.py:3058: DtypeWarning: Columns (3) have mixed types. Specify dtype option on import or set low_memory=False.\n",
      "  interactivity=interactivity, compiler=compiler, result=result)\n"
     ]
    }
   ],
   "source": [
    "# Dependencies and Setup\n",
    "import pandas as pd\n",
    "import numpy as np\n",
    "\n",
    "\n",
    "# File to Load (Remember to Change These)\n",
    "movies_data = \"Resources/IMDb_movies.csv\"\n",
    "ratings_data = \"Resources/IMDb_ratings.csv\"\n",
    "metascore = \"Resources/metacritic_movies.csv\"\n",
    "\n",
    "# Read School and Student Data File and store into Pandas Data Frames\n",
    "movies_data = pd.read_csv(movies_data)\n",
    "ratings_data = pd.read_csv(ratings_data)\n",
    "metascore = pd.read_csv(metascore)\n"
   ]
  },
  {
   "cell_type": "code",
   "execution_count": 28,
   "metadata": {},
   "outputs": [
    {
     "name": "stdout",
     "output_type": "stream",
     "text": [
      "<class 'pandas.core.frame.DataFrame'>\n",
      "RangeIndex: 85855 entries, 0 to 85854\n",
      "Data columns (total 22 columns):\n",
      "imdb_title_id            85855 non-null object\n",
      "title                    85855 non-null object\n",
      "original_title           85855 non-null object\n",
      "year                     85855 non-null object\n",
      "date_published           85855 non-null object\n",
      "genre                    85855 non-null object\n",
      "duration                 85855 non-null int64\n",
      "country                  85791 non-null object\n",
      "language                 85022 non-null object\n",
      "director                 85768 non-null object\n",
      "writer                   84283 non-null object\n",
      "production_company       81400 non-null object\n",
      "actors                   85786 non-null object\n",
      "description              83740 non-null object\n",
      "avg_vote                 85855 non-null float64\n",
      "votes                    85855 non-null int64\n",
      "budget                   23710 non-null object\n",
      "usa_gross_income         15326 non-null object\n",
      "worlwide_gross_income    31016 non-null object\n",
      "metascore                13305 non-null float64\n",
      "reviews_from_users       78258 non-null float64\n",
      "reviews_from_critics     74058 non-null float64\n",
      "dtypes: float64(4), int64(2), object(16)\n",
      "memory usage: 14.4+ MB\n"
     ]
    }
   ],
   "source": [
    "# info\n",
    "movies_data.info()"
   ]
  },
  {
   "cell_type": "code",
   "execution_count": 29,
   "metadata": {},
   "outputs": [
    {
     "name": "stdout",
     "output_type": "stream",
     "text": [
      "<class 'pandas.core.frame.DataFrame'>\n",
      "RangeIndex: 85855 entries, 0 to 85854\n",
      "Data columns (total 49 columns):\n",
      "imdb_title_id                85855 non-null object\n",
      "weighted_average_vote        85855 non-null float64\n",
      "total_votes                  85855 non-null int64\n",
      "mean_vote                    85855 non-null float64\n",
      "median_vote                  85855 non-null float64\n",
      "votes_10                     85855 non-null int64\n",
      "votes_9                      85855 non-null int64\n",
      "votes_8                      85855 non-null int64\n",
      "votes_7                      85855 non-null int64\n",
      "votes_6                      85855 non-null int64\n",
      "votes_5                      85855 non-null int64\n",
      "votes_4                      85855 non-null int64\n",
      "votes_3                      85855 non-null int64\n",
      "votes_2                      85855 non-null int64\n",
      "votes_1                      85855 non-null int64\n",
      "allgenders_0age_avg_vote     33359 non-null float64\n",
      "allgenders_0age_votes        33359 non-null float64\n",
      "allgenders_18age_avg_vote    85149 non-null float64\n",
      "allgenders_18age_votes       85149 non-null float64\n",
      "allgenders_30age_avg_vote    85845 non-null float64\n",
      "allgenders_30age_votes       85845 non-null float64\n",
      "allgenders_45age_avg_vote    85775 non-null float64\n",
      "allgenders_45age_votes       85775 non-null float64\n",
      "males_allages_avg_vote       85854 non-null float64\n",
      "males_allages_votes          85854 non-null float64\n",
      "males_0age_avg_vote          27411 non-null float64\n",
      "males_0age_votes             27411 non-null float64\n",
      "males_18age_avg_vote         84390 non-null float64\n",
      "males_18age_votes            84390 non-null float64\n",
      "males_30age_avg_vote         85843 non-null float64\n",
      "males_30age_votes            85843 non-null float64\n",
      "males_45age_avg_vote         85754 non-null float64\n",
      "males_45age_votes            85754 non-null float64\n",
      "females_allages_avg_vote     85774 non-null float64\n",
      "females_allages_votes        85774 non-null float64\n",
      "females_0age_avg_vote        22117 non-null float64\n",
      "females_0age_votes           22117 non-null float64\n",
      "females_18age_avg_vote       79334 non-null float64\n",
      "females_18age_votes          79334 non-null float64\n",
      "females_30age_avg_vote       84911 non-null float64\n",
      "females_30age_votes          84911 non-null float64\n",
      "females_45age_avg_vote       83057 non-null float64\n",
      "females_45age_votes          83057 non-null float64\n",
      "top1000_voters_rating        85176 non-null float64\n",
      "top1000_voters_votes         85176 non-null float64\n",
      "us_voters_rating             85646 non-null float64\n",
      "us_voters_votes              85646 non-null float64\n",
      "non_us_voters_rating         85854 non-null float64\n",
      "non_us_voters_votes          85854 non-null float64\n",
      "dtypes: float64(37), int64(11), object(1)\n",
      "memory usage: 32.1+ MB\n"
     ]
    }
   ],
   "source": [
    "ratings_data.info()"
   ]
  },
  {
   "cell_type": "code",
   "execution_count": 36,
   "metadata": {},
   "outputs": [
    {
     "name": "stdout",
     "output_type": "stream",
     "text": [
      "<class 'pandas.core.frame.DataFrame'>\n",
      "RangeIndex: 9121 entries, 0 to 9120\n",
      "Data columns (total 11 columns):\n",
      "movie_title      9121 non-null object\n",
      "release_date     9121 non-null object\n",
      "genre            9121 non-null object\n",
      "meta_mixed       9121 non-null int64\n",
      "meta_negative    9121 non-null int64\n",
      "meta_positive    9121 non-null int64\n",
      "metascore        9121 non-null int64\n",
      "user_mixed       9121 non-null object\n",
      "user_negative    9121 non-null object\n",
      "user_positive    9121 non-null object\n",
      "userscore        9121 non-null object\n",
      "dtypes: int64(4), object(7)\n",
      "memory usage: 784.0+ KB\n"
     ]
    }
   ],
   "source": [
    "metascore.info()"
   ]
  },
  {
   "cell_type": "code",
   "execution_count": 37,
   "metadata": {},
   "outputs": [],
   "source": [
    "# Combine the data into a single dataset\n",
    "movies_data.to_json(\"Resources/imdb_movies.json\")\n",
    "ratings_data.to_json(\"Resources/imdb_ratings.json\")\n",
    "metascore.to_json(\"Resources/metacritic_movies.json\")\n"
   ]
  },
  {
   "cell_type": "code",
   "execution_count": 66,
   "metadata": {},
   "outputs": [
    {
     "name": "stdout",
     "output_type": "stream",
     "text": [
      "['Romance' 'Biography, Crime, Drama' 'Drama' ... 'Family, War'\n",
      " 'Documentary' 'Crime, War']\n"
     ]
    }
   ],
   "source": [
    "genres =  movies_data.genre.unique()\n",
    "unique = []\n",
    "# for genre in genres:\n",
    "#     if genre in unique:\n",
    "#         continue\n",
    "#     else:\n",
    "#         unique.append(genre)\n",
    "# # return unique\n",
    "\n",
    "print(genres)\n",
    "# print(get_unique_numbers(numbers))\n",
    "# Result: [20, 30, 40]"
   ]
  },
  {
   "cell_type": "code",
   "execution_count": null,
   "metadata": {},
   "outputs": [],
   "source": [
    "\n"
   ]
  }
 ],
 "metadata": {
  "kernelspec": {
   "display_name": "Python 3",
   "language": "python",
   "name": "python3"
  },
  "language_info": {
   "codemirror_mode": {
    "name": "ipython",
    "version": 3
   },
   "file_extension": ".py",
   "mimetype": "text/x-python",
   "name": "python",
   "nbconvert_exporter": "python",
   "pygments_lexer": "ipython3",
   "version": "3.7.6"
  }
 },
 "nbformat": 4,
 "nbformat_minor": 4
}
